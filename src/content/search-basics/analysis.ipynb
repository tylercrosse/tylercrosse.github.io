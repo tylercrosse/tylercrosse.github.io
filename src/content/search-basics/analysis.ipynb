{
 "cells": [
  {
   "cell_type": "code",
   "execution_count": 23,
   "metadata": {},
   "outputs": [
    {
     "name": "stdout",
     "output_type": "stream",
     "text": [
      "defaultdict(None, {'The': {'1', '2'}, 'quick': {'1'}, 'brown': {'1'}, 'fox': {'1'}, 'ran': {'1'}, 'around': {'1'}, 'the': {'1', '2'}, 'lazy': {'1'}, 'dog.': {'1'}, 'rain': {'2'}, 'in': {'4', '2'}, 'Spain': {'2'}, 'falls': {'2'}, 'mostly': {'2'}, 'on': {'2'}, 'plain.': {'2'}, 'Rain,': {'3'}, 'rain,': {'3'}, 'go': {'3'}, 'away.': {'3'}, 'Come': {'3'}, 'again': {'3'}, 'another': {'3'}, 'day.': {'3'}, 'Today': {'4'}, 'is': {'4'}, 'a': {'4'}, 'day': {'4'}, 'that': {'4'}, 'will': {'4'}, 'live': {'4'}, 'emfamy.': {'4'}})\n"
     ]
    }
   ],
   "source": [
    "from collections import defaultdict\n",
    "\n",
    "docs = ['The quick brown fox ran around the lazy dog.', 'The rain in Spain falls mostly on the plain.', 'Rain, rain, go away. Come again another day.', 'Today is a day that will live in emfamy.']\n",
    "\n",
    "# Build the initial index with postings list\n",
    "index = defaultdict()\n",
    "for i, doc in enumerate(docs):\n",
    "    term = doc.split(' ')\n",
    "    for term in term:\n",
    "        if term not in index:\n",
    "            index[term] = {str(i+1)}\n",
    "        else:\n",
    "            index[term] |= {str(i+1)}\n",
    "\n",
    "print(index)\n"
   ]
  },
  {
   "cell_type": "code",
   "execution_count": 24,
   "metadata": {},
   "outputs": [
    {
     "name": "stdout",
     "output_type": "stream",
     "text": [
      "Come: 3\n",
      "Rain,: 3\n",
      "Spain: 2\n",
      "The: 1, 2\n",
      "Today: 4\n",
      "a: 4\n",
      "again: 3\n",
      "another: 3\n",
      "around: 1\n",
      "away.: 3\n",
      "brown: 1\n",
      "day: 4\n",
      "day.: 3\n",
      "dog.: 1\n",
      "emfamy.: 4\n",
      "falls: 2\n",
      "fox: 1\n",
      "go: 3\n",
      "in: 4, 2\n",
      "is: 4\n",
      "lazy: 1\n",
      "live: 4\n",
      "mostly: 2\n",
      "on: 2\n",
      "plain.: 2\n",
      "quick: 1\n",
      "rain: 2\n",
      "rain,: 3\n",
      "ran: 1\n",
      "that: 4\n",
      "the: 1, 2\n",
      "will: 4\n"
     ]
    }
   ],
   "source": [
    "# Help print the index wiht postings\n",
    "arr = []\n",
    "\n",
    "for term in sorted(index):\n",
    "    print(f'{term}: {\", \".join(index[term])}')"
   ]
  },
  {
   "cell_type": "code",
   "execution_count": null,
   "metadata": {},
   "outputs": [],
   "source": []
  }
 ],
 "metadata": {
  "kernelspec": {
   "display_name": "Python 3",
   "language": "python",
   "name": "python3"
  },
  "language_info": {
   "codemirror_mode": {
    "name": "ipython",
    "version": 3
   },
   "file_extension": ".py",
   "mimetype": "text/x-python",
   "name": "python",
   "nbconvert_exporter": "python",
   "pygments_lexer": "ipython3",
   "version": "3.10.9"
  },
  "orig_nbformat": 4,
  "vscode": {
   "interpreter": {
    "hash": "aee8b7b246df8f9039afb4144a1f6fd8d2ca17a180786b69acc140d282b71a49"
   }
  }
 },
 "nbformat": 4,
 "nbformat_minor": 2
}
